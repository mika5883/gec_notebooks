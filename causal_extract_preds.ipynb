{
 "cells": [
  {
   "cell_type": "code",
   "execution_count": null,
   "id": "a3396c76-68c2-4d4e-8b7c-14ee5901590d",
   "metadata": {
    "execution": {
     "iopub.execute_input": "2025-04-15T17:37:51.580989Z",
     "iopub.status.busy": "2025-04-15T17:37:51.580594Z",
     "iopub.status.idle": "2025-04-15T17:37:53.519957Z",
     "shell.execute_reply": "2025-04-15T17:37:53.519225Z",
     "shell.execute_reply.started": "2025-04-15T17:37:51.580969Z"
    },
    "tags": []
   },
   "outputs": [
    {
     "data": {
      "text/plain": [
       "'cuda'"
      ]
     },
     "execution_count": 1,
     "metadata": {},
     "output_type": "execute_result"
    }
   ],
   "source": [
    "import torch\n",
    "\n",
    "device = 'cuda' if torch.cuda.is_available() else 'cpu'\n",
    "device"
   ]
  },
  {
   "cell_type": "code",
   "execution_count": null,
   "id": "f368ed08-330e-47d4-8ff0-3e2b84f080dc",
   "metadata": {
    "execution": {
     "iopub.execute_input": "2025-04-15T17:37:53.521793Z",
     "iopub.status.busy": "2025-04-15T17:37:53.521028Z",
     "iopub.status.idle": "2025-04-15T17:37:58.933220Z",
     "shell.execute_reply": "2025-04-15T17:37:58.932469Z",
     "shell.execute_reply.started": "2025-04-15T17:37:53.521771Z"
    },
    "tags": []
   },
   "outputs": [
    {
     "name": "stderr",
     "output_type": "stream",
     "text": [
      "/home/jupyter/.local/lib/python3.10/site-packages/transformers/utils/hub.py:128: FutureWarning: Using `TRANSFORMERS_CACHE` is deprecated and will be removed in v5 of Transformers. Use `HF_HOME` instead.\n",
      "  warnings.warn(\n",
      "/usr/local/lib/python3.10/dist-packages/torchvision/io/image.py:13: UserWarning: Failed to load image Python extension: '/usr/local/lib/python3.10/dist-packages/torchvision/image.so: undefined symbol: _ZN3c1017RegisterOperatorsD1Ev'If you don't plan on using image functionality from `torchvision.io`, you can ignore this warning. Otherwise, there might be something wrong with your environment. Did you have `libjpeg` or `libpng` installed before building `torchvision` from source?\n",
      "  warn(\n",
      "2025-04-15 17:37:55.120277: I tensorflow/core/platform/cpu_feature_guard.cc:182] This TensorFlow binary is optimized to use available CPU instructions in performance-critical operations.\n",
      "To enable the following instructions: AVX2 FMA, in other operations, rebuild TensorFlow with the appropriate compiler flags.\n",
      "2025-04-15 17:37:55.982040: W tensorflow/compiler/tf2tensorrt/utils/py_utils.cc:38] TF-TRT Warning: Could not find TensorRT\n",
      "/usr/local/lib/python3.10/dist-packages/torchvision/datapoints/__init__.py:12: UserWarning: The torchvision.datapoints and torchvision.transforms.v2 namespaces are still Beta. While we do not expect major breaking changes, some APIs may still change according to user feedback. Please submit any feedback you may have in this issue: https://github.com/pytorch/vision/issues/6753, and you can also check out https://github.com/pytorch/vision/issues/7319 to learn more about the APIs that we suspect might involve future changes. You can silence this warning by calling torchvision.disable_beta_transforms_warning().\n",
      "  warnings.warn(_BETA_TRANSFORMS_WARNING)\n",
      "/usr/local/lib/python3.10/dist-packages/torchvision/transforms/v2/__init__.py:54: UserWarning: The torchvision.datapoints and torchvision.transforms.v2 namespaces are still Beta. While we do not expect major breaking changes, some APIs may still change according to user feedback. Please submit any feedback you may have in this issue: https://github.com/pytorch/vision/issues/6753, and you can also check out https://github.com/pytorch/vision/issues/7319 to learn more about the APIs that we suspect might involve future changes. You can silence this warning by calling torchvision.disable_beta_transforms_warning().\n",
      "  warnings.warn(_BETA_TRANSFORMS_WARNING)\n"
     ]
    }
   ],
   "source": [
    "\n",
    "# from datasets import load_dataset\n",
    "import pandas as pd\n",
    "\n",
    "import transformers\n",
    "from transformers import (\n",
    "    AutoModelForCausalLM,\n",
    "    AutoTokenizer,\n",
    ")\n",
    "from transformers import BitsAndBytesConfig\n",
    "from peft import PeftModel, PeftConfig"
   ]
  },
  {
   "cell_type": "code",
   "execution_count": 3,
   "id": "d4b2d8cc-c72f-497d-bcd4-21ba1efd8d1a",
   "metadata": {
    "execution": {
     "iopub.execute_input": "2025-04-15T17:37:58.935073Z",
     "iopub.status.busy": "2025-04-15T17:37:58.934473Z",
     "iopub.status.idle": "2025-04-15T17:41:34.077967Z",
     "shell.execute_reply": "2025-04-15T17:41:34.077146Z",
     "shell.execute_reply.started": "2025-04-15T17:37:58.935052Z"
    },
    "tags": []
   },
   "outputs": [
    {
     "name": "stderr",
     "output_type": "stream",
     "text": [
      "Downloading shards: 100%|██████████| 4/4 [00:00<00:00, 1118.33it/s]\n",
      "Loading checkpoint shards: 100%|██████████| 4/4 [03:30<00:00, 52.65s/it]\n"
     ]
    }
   ],
   "source": [
    "\n",
    "# Your adapter repo or local dir\n",
    "# peft_model_id = \"mika5883/ru_qwen_gec\" # or your output_dir path\n",
    "# peft_model_id = 'mika5883/ru_qwen_gec_Ag_art'\n",
    "peft_model_id = 'mika5883/ru_qwen7b_gec_Ga'\n",
    "peft_model_id = '/home/jupyter/datasphere/project/rugec/notebooks/qwen_gec/ru_qwen7b_gec_Ga/checkpoint-261'\n",
    "\n",
    "# Load adapter config\n",
    "peft_config = PeftConfig.from_pretrained(peft_model_id)\n",
    "bnb_config = BitsAndBytesConfig(\n",
    "    load_in_4bit=True,\n",
    "    bnb_4bit_use_double_quant=True,\n",
    "    bnb_4bit_quant_type=\"nf4\",\n",
    "    bnb_4bit_compute_dtype=torch.float16,\n",
    ")\n",
    "# Load base model\n",
    "base_model = AutoModelForCausalLM.from_pretrained(\n",
    "    peft_config.base_model_name_or_path,\n",
    "    trust_remote_code=True,\n",
    "    device_map=\"auto\",\n",
    "    quantization_config=bnb_config,\n",
    "    low_cpu_mem_usage=True,\n",
    ")\n",
    "\n",
    "# Load tokenizer\n",
    "tokenizer = AutoTokenizer.from_pretrained(peft_config.base_model_name_or_path, trust_remote_code=True)\n",
    "\n",
    "# Merge LoRA adapter with base model\n",
    "model = PeftModel.from_pretrained(base_model, peft_model_id)\n",
    "model.config.use_cache = False"
   ]
  },
  {
   "cell_type": "code",
   "execution_count": null,
   "id": "aab6f7cf-fa48-426f-81b0-019291543074",
   "metadata": {
    "execution": {
     "iopub.execute_input": "2025-04-15T17:41:34.079156Z",
     "iopub.status.busy": "2025-04-15T17:41:34.078848Z",
     "iopub.status.idle": "2025-04-15T17:41:34.131151Z",
     "shell.execute_reply": "2025-04-15T17:41:34.130347Z",
     "shell.execute_reply.started": "2025-04-15T17:41:34.079132Z"
    },
    "tags": []
   },
   "outputs": [],
   "source": [
    "# test = '/home/jupyter/datasphere/project/rugec/data/RULEC-GEC.test.tsv'\n",
    "test = '/home/jupyter/datasphere/project/rugec/data/GERA.test.tsv'\n",
    "df_test = pd.read_csv(test, delimiter='\\t')"
   ]
  },
  {
   "cell_type": "code",
   "execution_count": 8,
   "id": "33bfb436-69b5-4650-b3d8-01488ce70d8c",
   "metadata": {
    "execution": {
     "iopub.execute_input": "2025-04-15T00:33:26.706268Z",
     "iopub.status.busy": "2025-04-15T00:33:26.705894Z",
     "iopub.status.idle": "2025-04-15T00:33:26.717199Z",
     "shell.execute_reply": "2025-04-15T00:33:26.716488Z",
     "shell.execute_reply.started": "2025-04-15T00:33:26.706236Z"
    },
    "tags": []
   },
   "outputs": [
    {
     "data": {
      "text/plain": [
       "Qwen2TokenizerFast(name_or_path='Qwen/Qwen2-7B-Instruct', vocab_size=151643, model_max_length=131072, is_fast=True, padding_side='right', truncation_side='right', special_tokens={'eos_token': '<|im_end|>', 'pad_token': '<|endoftext|>', 'additional_special_tokens': ['<|im_start|>', '<|im_end|>']}, clean_up_tokenization_spaces=False, added_tokens_decoder={\n",
       "\t151643: AddedToken(\"<|endoftext|>\", rstrip=False, lstrip=False, single_word=False, normalized=False, special=True),\n",
       "\t151644: AddedToken(\"<|im_start|>\", rstrip=False, lstrip=False, single_word=False, normalized=False, special=True),\n",
       "\t151645: AddedToken(\"<|im_end|>\", rstrip=False, lstrip=False, single_word=False, normalized=False, special=True),\n",
       "}\n",
       ")"
      ]
     },
     "execution_count": 8,
     "metadata": {},
     "output_type": "execute_result"
    }
   ],
   "source": [
    "tokenizer"
   ]
  },
  {
   "cell_type": "code",
   "execution_count": 5,
   "id": "01af41e0-43a7-422f-94f9-f69bb5ac0158",
   "metadata": {
    "execution": {
     "iopub.execute_input": "2025-04-15T17:42:21.252040Z",
     "iopub.status.busy": "2025-04-15T17:42:21.251583Z",
     "iopub.status.idle": "2025-04-15T17:42:29.474781Z",
     "shell.execute_reply": "2025-04-15T17:42:29.473991Z",
     "shell.execute_reply.started": "2025-04-15T17:42:21.252019Z"
    },
    "tags": []
   },
   "outputs": [
    {
     "name": "stderr",
     "output_type": "stream",
     "text": [
      "100%|██████████| 1/1 [00:08<00:00,  8.20s/it]"
     ]
    },
    {
     "name": "stdout",
     "output_type": "stream",
     "text": [
      "❌ Input: Он не был способен на найти решение.\n",
      "✅ Prediction: Он не был способен найти решение .\n",
      "\n",
      "❌ Input: Это пример теста с ошибками.\n",
      "✅ Prediction: Это пример теста с ошибками .\n",
      "\n",
      "❌ Input: У меня был друг, который всегда говорил, что можно работать не напрягаясь и получать хорошие деньги, но мне казалось, что это просто шутка.\n",
      "✅ Prediction: У меня был друг , который всегда говорил , что можно работать не напрягаясь и получать хорошие деньги , но мне казалось , что это просто шутка .\n",
      "\n"
     ]
    },
    {
     "name": "stderr",
     "output_type": "stream",
     "text": [
      "\n"
     ]
    }
   ],
   "source": [
    "from tqdm import tqdm\n",
    "\n",
    "def generate_predictions(input_sentences, batch_size=64, max_new_tokens=512):\n",
    "    all_predictions = []\n",
    "    tokenizer.padding_side = \"left\"\n",
    "    for i in tqdm(range(0, len(input_sentences), batch_size)):\n",
    "        batch = input_sentences[i:i+batch_size]        \n",
    "\n",
    "        prompts = [\n",
    "            f\"<|im_start|>system\\nТы полезный ассистент для исправления грамматических ошибок.<|im_end|>\\n<|im_start|>user\\nИсправь ошибки в следующем предложении: {sentence}\\nИсправленное предложение:<|im_end|>\\n<|im_start|>assistant\\n\"\n",
    "            for sentence in batch\n",
    "        ]\n",
    "\n",
    "        inputs = tokenizer(\n",
    "            prompts,\n",
    "            return_tensors=\"pt\",\n",
    "            # padding=True,\n",
    "            padding='max_length',\n",
    "            truncation=True,\n",
    "            max_length=512,\n",
    "        ).to(device)\n",
    "\n",
    "        with torch.no_grad():\n",
    "            outputs = model.generate(\n",
    "                input_ids=inputs.input_ids,\n",
    "                attention_mask=inputs.attention_mask,\n",
    "                max_new_tokens=max_new_tokens,\n",
    "                num_beams=5,\n",
    "                early_stopping=True,\n",
    "                eos_token_id=tokenizer.eos_token_id,\n",
    "                pad_token_id=tokenizer.pad_token_id,\n",
    "            )\n",
    "\n",
    "        decoded = tokenizer.batch_decode(outputs, skip_special_tokens=True, clean_up_tokenization_spaces=False)\n",
    "\n",
    "        for full_output in decoded:\n",
    "            if \"Исправленное предложение:\" in full_output:\n",
    "                corrected = full_output.split(\"\\n\")[-1].strip()\n",
    "            else:\n",
    "                corrected = full_output.strip()\n",
    "            all_predictions.append(corrected)\n",
    "\n",
    "    return all_predictions\n",
    "\n",
    "\n",
    "\n",
    "# Example usage\n",
    "input_sentences = [\n",
    "    \"Он не был способен на найти решение.\",\n",
    "    \"Это пример теста с ошибками.\",\n",
    "    \"У меня был друг, который всегда говорил, что можно работать не напрягаясь и получать хорошие деньги, но мне казалось, что это просто шутка.\"\n",
    "]\n",
    "\n",
    "predictions = generate_predictions(input_sentences)\n",
    "for sentence, prediction in zip(input_sentences, predictions):\n",
    "    print(f\"❌ Input: {sentence}\")\n",
    "    print(f\"✅ Prediction: {prediction}\\n\")\n"
   ]
  },
  {
   "cell_type": "code",
   "execution_count": null,
   "id": "a17b975a-546d-42f7-92aa-e0d60f4a0b56",
   "metadata": {
    "execution": {
     "iopub.execute_input": "2025-04-15T17:42:35.233269Z",
     "iopub.status.busy": "2025-04-15T17:42:35.232911Z",
     "iopub.status.idle": "2025-04-15T18:01:14.479074Z",
     "shell.execute_reply": "2025-04-15T18:01:14.478239Z",
     "shell.execute_reply.started": "2025-04-15T17:42:35.233250Z"
    },
    "tags": []
   },
   "outputs": [
    {
     "name": "stderr",
     "output_type": "stream",
     "text": [
      "100%|██████████| 21/21 [18:39<00:00, 53.30s/it]\n"
     ]
    }
   ],
   "source": [
    "df_test['corrected_sent'] = generate_predictions(df_test['corrupt_sent'])"
   ]
  },
  {
   "cell_type": "code",
   "execution_count": null,
   "id": "638d35a6-1621-4a64-966d-7bee88c46d8c",
   "metadata": {
    "execution": {
     "iopub.execute_input": "2025-04-15T18:01:14.510324Z",
     "iopub.status.busy": "2025-04-15T18:01:14.509778Z",
     "iopub.status.idle": "2025-04-15T18:01:14.541850Z",
     "shell.execute_reply": "2025-04-15T18:01:14.541275Z",
     "shell.execute_reply.started": "2025-04-15T18:01:14.510303Z"
    },
    "tags": []
   },
   "outputs": [
    {
     "data": {
      "text/html": [
       "<div>\n",
       "<style scoped>\n",
       "    .dataframe tbody tr th:only-of-type {\n",
       "        vertical-align: middle;\n",
       "    }\n",
       "\n",
       "    .dataframe tbody tr th {\n",
       "        vertical-align: top;\n",
       "    }\n",
       "\n",
       "    .dataframe thead th {\n",
       "        text-align: right;\n",
       "    }\n",
       "</style>\n",
       "<table border=\"1\" class=\"dataframe\">\n",
       "  <thead>\n",
       "    <tr style=\"text-align: right;\">\n",
       "      <th></th>\n",
       "      <th>corrupt_sent</th>\n",
       "      <th>correct_sent</th>\n",
       "      <th>corrected_sent</th>\n",
       "    </tr>\n",
       "  </thead>\n",
       "  <tbody>\n",
       "    <tr>\n",
       "      <th>0</th>\n",
       "      <td>Как показана правда времени в романе А. С. Пуш...</td>\n",
       "      <td>Как показана правда времени в романе А. С. Пуш...</td>\n",
       "      <td>Как показана правда времени в романе А. С. Пуш...</td>\n",
       "    </tr>\n",
       "    <tr>\n",
       "      <th>1</th>\n",
       "      <td>Действия в романе происходят в золотом веке , ...</td>\n",
       "      <td>Действия в романе происходят в золотом веке , ...</td>\n",
       "      <td>Действия в романе происходят в золотой век , в...</td>\n",
       "    </tr>\n",
       "    <tr>\n",
       "      <th>2</th>\n",
       "      <td>Сам роман посвящен Пугачевщине .</td>\n",
       "      <td>Сам роман посвящен Пугачевщине .</td>\n",
       "      <td>Сам роман посвящен Пугачевщине .</td>\n",
       "    </tr>\n",
       "    <tr>\n",
       "      <th>3</th>\n",
       "      <td>Конечно были исторические произведения и до эт...</td>\n",
       "      <td>Конечно , были исторические произведения и до ...</td>\n",
       "      <td>Конечно , были исторические произведения и до ...</td>\n",
       "    </tr>\n",
       "    <tr>\n",
       "      <th>4</th>\n",
       "      <td>К примеру самые ранние были трагедия \" Борис Г...</td>\n",
       "      <td>К примеру , самыми ранними были трагедия \" Бор...</td>\n",
       "      <td>К примеру , самые ранние были трагедия \" Борис...</td>\n",
       "    </tr>\n",
       "    <tr>\n",
       "      <th>...</th>\n",
       "      <td>...</td>\n",
       "      <td>...</td>\n",
       "      <td>...</td>\n",
       "    </tr>\n",
       "    <tr>\n",
       "      <th>1309</th>\n",
       "      <td>Тюрьма же обозначает заключение , узкие стены ...</td>\n",
       "      <td>Тюрьма же обозначает заключение , узкие стены ...</td>\n",
       "      <td>Тюрьма же обозначает заключение , узкие стены ...</td>\n",
       "    </tr>\n",
       "    <tr>\n",
       "      <th>1310</th>\n",
       "      <td>Эти слова произносит сам Мцыри в своей исповед...</td>\n",
       "      <td>Эти слова произносит сам Мцыри в своей исповед...</td>\n",
       "      <td>Эти слова произносит сам Мцыри в своей исповед...</td>\n",
       "    </tr>\n",
       "    <tr>\n",
       "      <th>1311</th>\n",
       "      <td>Сами слова , произнесённые мальчиком характери...</td>\n",
       "      <td>Сами слова , произнесённые мальчиком , характе...</td>\n",
       "      <td>Сами слова , произнесённые мальчиком , характе...</td>\n",
       "    </tr>\n",
       "    <tr>\n",
       "      <th>1312</th>\n",
       "      <td>Образ Мцыри достаточно привлекателен его хариз...</td>\n",
       "      <td>Образ Мцыри достаточно привлекателен своей хар...</td>\n",
       "      <td>Образ Мцыри достаточно привлекателен его хариз...</td>\n",
       "    </tr>\n",
       "    <tr>\n",
       "      <th>1313</th>\n",
       "      <td>М. Ю. Лермонтов относится к главному герою с п...</td>\n",
       "      <td>М. Ю. Лермонтов относится к главному герою с п...</td>\n",
       "      <td>М. Ю. Лермонтов относится к главному герою с п...</td>\n",
       "    </tr>\n",
       "  </tbody>\n",
       "</table>\n",
       "<p>1314 rows × 3 columns</p>\n",
       "</div>"
      ],
      "text/plain": [
       "                                           corrupt_sent  \\\n",
       "0     Как показана правда времени в романе А. С. Пуш...   \n",
       "1     Действия в романе происходят в золотом веке , ...   \n",
       "2                      Сам роман посвящен Пугачевщине .   \n",
       "3     Конечно были исторические произведения и до эт...   \n",
       "4     К примеру самые ранние были трагедия \" Борис Г...   \n",
       "...                                                 ...   \n",
       "1309  Тюрьма же обозначает заключение , узкие стены ...   \n",
       "1310  Эти слова произносит сам Мцыри в своей исповед...   \n",
       "1311  Сами слова , произнесённые мальчиком характери...   \n",
       "1312  Образ Мцыри достаточно привлекателен его хариз...   \n",
       "1313  М. Ю. Лермонтов относится к главному герою с п...   \n",
       "\n",
       "                                           correct_sent  \\\n",
       "0     Как показана правда времени в романе А. С. Пуш...   \n",
       "1     Действия в романе происходят в золотом веке , ...   \n",
       "2                      Сам роман посвящен Пугачевщине .   \n",
       "3     Конечно , были исторические произведения и до ...   \n",
       "4     К примеру , самыми ранними были трагедия \" Бор...   \n",
       "...                                                 ...   \n",
       "1309  Тюрьма же обозначает заключение , узкие стены ...   \n",
       "1310  Эти слова произносит сам Мцыри в своей исповед...   \n",
       "1311  Сами слова , произнесённые мальчиком , характе...   \n",
       "1312  Образ Мцыри достаточно привлекателен своей хар...   \n",
       "1313  М. Ю. Лермонтов относится к главному герою с п...   \n",
       "\n",
       "                                         corrected_sent  \n",
       "0     Как показана правда времени в романе А. С. Пуш...  \n",
       "1     Действия в романе происходят в золотой век , в...  \n",
       "2                      Сам роман посвящен Пугачевщине .  \n",
       "3     Конечно , были исторические произведения и до ...  \n",
       "4     К примеру , самые ранние были трагедия \" Борис...  \n",
       "...                                                 ...  \n",
       "1309  Тюрьма же обозначает заключение , узкие стены ...  \n",
       "1310  Эти слова произносит сам Мцыри в своей исповед...  \n",
       "1311  Сами слова , произнесённые мальчиком , характе...  \n",
       "1312  Образ Мцыри достаточно привлекателен его хариз...  \n",
       "1313  М. Ю. Лермонтов относится к главному герою с п...  \n",
       "\n",
       "[1314 rows x 3 columns]"
      ]
     },
     "execution_count": 7,
     "metadata": {},
     "output_type": "execute_result"
    }
   ],
   "source": [
    "df_test"
   ]
  },
  {
   "cell_type": "code",
   "execution_count": null,
   "id": "4c4488ac-96d5-4ea3-962f-80ee79ba311f",
   "metadata": {
    "execution": {
     "iopub.execute_input": "2025-04-15T18:01:14.542901Z",
     "iopub.status.busy": "2025-04-15T18:01:14.542520Z",
     "iopub.status.idle": "2025-04-15T18:01:14.563001Z",
     "shell.execute_reply": "2025-04-15T18:01:14.562441Z",
     "shell.execute_reply.started": "2025-04-15T18:01:14.542883Z"
    },
    "tags": []
   },
   "outputs": [],
   "source": [
    "df_test = df_test.drop(columns=['correct_sent'])\n",
    "df_test = df_test.rename(columns={'corrupt_sent' : 'corrupt', 'corrected_sent' : 'corrected'})"
   ]
  },
  {
   "cell_type": "code",
   "execution_count": null,
   "id": "748318bb-e006-47a4-a014-af10c854b200",
   "metadata": {
    "execution": {
     "iopub.execute_input": "2025-04-15T18:01:14.564747Z",
     "iopub.status.busy": "2025-04-15T18:01:14.564136Z",
     "iopub.status.idle": "2025-04-15T18:01:14.578107Z",
     "shell.execute_reply": "2025-04-15T18:01:14.577466Z",
     "shell.execute_reply.started": "2025-04-15T18:01:14.564726Z"
    },
    "tags": []
   },
   "outputs": [
    {
     "data": {
      "text/html": [
       "<div>\n",
       "<style scoped>\n",
       "    .dataframe tbody tr th:only-of-type {\n",
       "        vertical-align: middle;\n",
       "    }\n",
       "\n",
       "    .dataframe tbody tr th {\n",
       "        vertical-align: top;\n",
       "    }\n",
       "\n",
       "    .dataframe thead th {\n",
       "        text-align: right;\n",
       "    }\n",
       "</style>\n",
       "<table border=\"1\" class=\"dataframe\">\n",
       "  <thead>\n",
       "    <tr style=\"text-align: right;\">\n",
       "      <th></th>\n",
       "      <th>corrupt</th>\n",
       "      <th>corrected</th>\n",
       "    </tr>\n",
       "  </thead>\n",
       "  <tbody>\n",
       "    <tr>\n",
       "      <th>0</th>\n",
       "      <td>Как показана правда времени в романе А. С. Пуш...</td>\n",
       "      <td>Как показана правда времени в романе А. С. Пуш...</td>\n",
       "    </tr>\n",
       "    <tr>\n",
       "      <th>1</th>\n",
       "      <td>Действия в романе происходят в золотом веке , ...</td>\n",
       "      <td>Действия в романе происходят в золотой век , в...</td>\n",
       "    </tr>\n",
       "    <tr>\n",
       "      <th>2</th>\n",
       "      <td>Сам роман посвящен Пугачевщине .</td>\n",
       "      <td>Сам роман посвящен Пугачевщине .</td>\n",
       "    </tr>\n",
       "    <tr>\n",
       "      <th>3</th>\n",
       "      <td>Конечно были исторические произведения и до эт...</td>\n",
       "      <td>Конечно , были исторические произведения и до ...</td>\n",
       "    </tr>\n",
       "    <tr>\n",
       "      <th>4</th>\n",
       "      <td>К примеру самые ранние были трагедия \" Борис Г...</td>\n",
       "      <td>К примеру , самые ранние были трагедия \" Борис...</td>\n",
       "    </tr>\n",
       "    <tr>\n",
       "      <th>...</th>\n",
       "      <td>...</td>\n",
       "      <td>...</td>\n",
       "    </tr>\n",
       "    <tr>\n",
       "      <th>1309</th>\n",
       "      <td>Тюрьма же обозначает заключение , узкие стены ...</td>\n",
       "      <td>Тюрьма же обозначает заключение , узкие стены ...</td>\n",
       "    </tr>\n",
       "    <tr>\n",
       "      <th>1310</th>\n",
       "      <td>Эти слова произносит сам Мцыри в своей исповед...</td>\n",
       "      <td>Эти слова произносит сам Мцыри в своей исповед...</td>\n",
       "    </tr>\n",
       "    <tr>\n",
       "      <th>1311</th>\n",
       "      <td>Сами слова , произнесённые мальчиком характери...</td>\n",
       "      <td>Сами слова , произнесённые мальчиком , характе...</td>\n",
       "    </tr>\n",
       "    <tr>\n",
       "      <th>1312</th>\n",
       "      <td>Образ Мцыри достаточно привлекателен его хариз...</td>\n",
       "      <td>Образ Мцыри достаточно привлекателен его хариз...</td>\n",
       "    </tr>\n",
       "    <tr>\n",
       "      <th>1313</th>\n",
       "      <td>М. Ю. Лермонтов относится к главному герою с п...</td>\n",
       "      <td>М. Ю. Лермонтов относится к главному герою с п...</td>\n",
       "    </tr>\n",
       "  </tbody>\n",
       "</table>\n",
       "<p>1314 rows × 2 columns</p>\n",
       "</div>"
      ],
      "text/plain": [
       "                                                corrupt  \\\n",
       "0     Как показана правда времени в романе А. С. Пуш...   \n",
       "1     Действия в романе происходят в золотом веке , ...   \n",
       "2                      Сам роман посвящен Пугачевщине .   \n",
       "3     Конечно были исторические произведения и до эт...   \n",
       "4     К примеру самые ранние были трагедия \" Борис Г...   \n",
       "...                                                 ...   \n",
       "1309  Тюрьма же обозначает заключение , узкие стены ...   \n",
       "1310  Эти слова произносит сам Мцыри в своей исповед...   \n",
       "1311  Сами слова , произнесённые мальчиком характери...   \n",
       "1312  Образ Мцыри достаточно привлекателен его хариз...   \n",
       "1313  М. Ю. Лермонтов относится к главному герою с п...   \n",
       "\n",
       "                                              corrected  \n",
       "0     Как показана правда времени в романе А. С. Пуш...  \n",
       "1     Действия в романе происходят в золотой век , в...  \n",
       "2                      Сам роман посвящен Пугачевщине .  \n",
       "3     Конечно , были исторические произведения и до ...  \n",
       "4     К примеру , самые ранние были трагедия \" Борис...  \n",
       "...                                                 ...  \n",
       "1309  Тюрьма же обозначает заключение , узкие стены ...  \n",
       "1310  Эти слова произносит сам Мцыри в своей исповед...  \n",
       "1311  Сами слова , произнесённые мальчиком , характе...  \n",
       "1312  Образ Мцыри достаточно привлекателен его хариз...  \n",
       "1313  М. Ю. Лермонтов относится к главному герою с п...  \n",
       "\n",
       "[1314 rows x 2 columns]"
      ]
     },
     "execution_count": 9,
     "metadata": {},
     "output_type": "execute_result"
    }
   ],
   "source": [
    "df_test"
   ]
  },
  {
   "cell_type": "code",
   "execution_count": null,
   "id": "9db8c789-f667-49c4-b5ae-330cbfa4f348",
   "metadata": {
    "execution": {
     "iopub.execute_input": "2025-04-15T18:01:14.578981Z",
     "iopub.status.busy": "2025-04-15T18:01:14.578698Z",
     "iopub.status.idle": "2025-04-15T18:01:14.622922Z",
     "shell.execute_reply": "2025-04-15T18:01:14.622250Z",
     "shell.execute_reply.started": "2025-04-15T18:01:14.578965Z"
    },
    "tags": []
   },
   "outputs": [],
   "source": [
    "df_test.to_csv('gera_qwen7b_v1.tsv', sep='\\t', index=False)"
   ]
  },
  {
   "cell_type": "code",
   "execution_count": null,
   "id": "71e289ec-61f3-4a70-8476-5a1b114d6912",
   "metadata": {},
   "outputs": [],
   "source": []
  }
 ],
 "metadata": {
  "kernelspec": {
   "display_name": "DataSphere Kernel",
   "language": "python",
   "name": "python3"
  },
  "language_info": {
   "codemirror_mode": {
    "name": "ipython",
    "version": 3
   },
   "file_extension": ".py",
   "mimetype": "text/x-python",
   "name": "python",
   "nbconvert_exporter": "python",
   "pygments_lexer": "ipython3",
   "version": "3.10.12"
  }
 },
 "nbformat": 4,
 "nbformat_minor": 5
}
